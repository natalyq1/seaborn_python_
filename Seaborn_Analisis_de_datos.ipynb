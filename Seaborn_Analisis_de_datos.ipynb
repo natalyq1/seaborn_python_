{
  "nbformat": 4,
  "nbformat_minor": 0,
  "metadata": {
    "colab": {
      "provenance": [],
      "authorship_tag": "ABX9TyOIXvSqWP2ZAQtFaqPSGrI6",
      "include_colab_link": true
    },
    "kernelspec": {
      "name": "python3",
      "display_name": "Python 3"
    },
    "language_info": {
      "name": "python"
    }
  },
  "cells": [
    {
      "cell_type": "markdown",
      "metadata": {
        "id": "view-in-github",
        "colab_type": "text"
      },
      "source": [
        "<a href=\"https://colab.research.google.com/github/natalyq1/seaborn_python_/blob/master/Seaborn_Analisis_de_datos.ipynb\" target=\"_parent\"><img src=\"https://colab.research.google.com/assets/colab-badge.svg\" alt=\"Open In Colab\"/></a>"
      ]
    },
    {
      "cell_type": "code",
      "execution_count": null,
      "metadata": {
        "id": "Too8HzDQonX8",
        "colab": {
          "base_uri": "https://localhost:8080/"
        },
        "outputId": "7c39ffce-06e9-4be8-c857-2e217542fde0"
      },
      "outputs": [
        {
          "output_type": "execute_result",
          "data": {
            "text/plain": [
              "8"
            ]
          },
          "metadata": {},
          "execution_count": 4
        }
      ],
      "source": [
        "a= 8\n",
        "a"
      ]
    },
    {
      "cell_type": "code",
      "source": [
        "a= 4\n",
        "a"
      ],
      "metadata": {
        "id": "JPl8AoeHqoxf",
        "outputId": "48d957f1-16ae-48fc-98fb-88b8c7c19cc8",
        "colab": {
          "base_uri": "https://localhost:8080/"
        }
      },
      "execution_count": null,
      "outputs": [
        {
          "output_type": "execute_result",
          "data": {
            "text/plain": [
              "4"
            ]
          },
          "metadata": {},
          "execution_count": 5
        }
      ]
    },
    {
      "cell_type": "code",
      "source": [],
      "metadata": {
        "id": "ARaGzrcCsrEP"
      },
      "execution_count": null,
      "outputs": []
    }
  ]
}